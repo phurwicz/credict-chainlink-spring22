{
 "cells": [
  {
   "cell_type": "markdown",
   "id": "38145c54-68c5-4f54-81f5-048b7f0d7e74",
   "metadata": {},
   "source": [
    "## Set up Web3\n",
    "\n",
    "### Provider\n",
    "\n",
    "Here we are using infura in the example. You may change it to any other provider."
   ]
  },
  {
   "cell_type": "code",
   "execution_count": null,
   "id": "c40d961e-9911-41e2-9551-2bf6f24f72ce",
   "metadata": {},
   "outputs": [],
   "source": [
    "import os\n",
    "import json\n",
    "import time\n",
    "import pandas as pd\n",
    "import local_config\n",
    "from web3.auto.infura.rinkeby import w3\n",
    "\n",
    "os.environ['WEB3_INFURA_PROJECT_ID'] = local_config.INFURA_PROJECT_ID\n",
    "\n",
    "w3.isConnected()"
   ]
  },
  {
   "cell_type": "markdown",
   "id": "d6485495-e406-4b90-9980-b332d9fedcb3",
   "metadata": {},
   "source": [
    "### PredictionRecorder contract to interact with"
   ]
  },
  {
   "cell_type": "code",
   "execution_count": null,
   "id": "e6c30f28-da82-424f-843c-ca867589f56f",
   "metadata": {},
   "outputs": [],
   "source": [
    "RECORDER_ADDRESS = local_config.PREDICTION_RECORDER_CONTRACT"
   ]
  },
  {
   "cell_type": "markdown",
   "id": "916a6389-65fe-44a9-a06e-20d72a35b416",
   "metadata": {},
   "source": [
    "### Your Account\n",
    "\n",
    "This example loads private keys in a simplistic manner. **We suggest using a test account with no real asset.**"
   ]
  },
  {
   "cell_type": "code",
   "execution_count": null,
   "id": "97fb00de-61a5-4d7b-9817-56b53cd74bb0",
   "metadata": {},
   "outputs": [],
   "source": [
    "ACCOUNT_ADDRESS = local_config.PUBLIC_ADDRESS_DUMMY\n",
    "ACCOUNT_KEY = local_config.SIGNER_PRIVATE_KEY_DUMMY"
   ]
  },
  {
   "cell_type": "markdown",
   "id": "da246e1c-c1e4-49c2-a0c9-f2926a598975",
   "metadata": {},
   "source": [
    "## Load the contract and connect it to Python API"
   ]
  },
  {
   "cell_type": "code",
   "execution_count": null,
   "id": "9cf81eb4-5de5-4208-bba3-a59988ef13d8",
   "metadata": {},
   "outputs": [],
   "source": [
    "import requests\n",
    "\n",
    "abi = requests.get(f\"https://api-rinkeby.etherscan.io/api?module=contract&action=getabi&format=raw&address={RECORDER_ADDRESS}\").text\n",
    "abi"
   ]
  },
  {
   "cell_type": "code",
   "execution_count": null,
   "id": "95809001-cd82-4dab-a760-50b2b698579a",
   "metadata": {},
   "outputs": [],
   "source": [
    "from credict.api import PredictionHandler\n",
    "\n",
    "contract_dict = dict(abi=abi, address=RECORDER_ADDRESS)\n",
    "\n",
    "target_json_path = PredictionHandler.json_path_static(ACCOUNT_ADDRESS, RECORDER_ADDRESS)\n",
    "\n",
    "if os.path.isfile(target_json_path):\n",
    "    print(\"Loading handler state from existing json.\")\n",
    "    handler = PredictionHandler.from_json(target_json_path)\n",
    "else:\n",
    "    print(\"Did not find existing json. Creating new handler.\")\n",
    "    handler = PredictionHandler(ACCOUNT_ADDRESS, contract_dict)"
   ]
  },
  {
   "cell_type": "code",
   "execution_count": null,
   "id": "86baa008-59e4-4bb3-aa62-3ef23863d4a3",
   "metadata": {},
   "outputs": [],
   "source": [
    "if not hasattr(handler, \"rsa\"):\n",
    "    handler.setup_rsa()\n",
    "handler.connect(w3)\n",
    "handler.rsa.describe()"
   ]
  },
  {
   "cell_type": "code",
   "execution_count": null,
   "id": "cb84ae0d-cdf5-454a-86bd-4201643e75e9",
   "metadata": {},
   "outputs": [],
   "source": [
    "def transact(call):\n",
    "    txn = call.buildTransaction({\n",
    "        \"value\": 0,\n",
    "        \"gas\": int(1e+6),\n",
    "        \"nonce\": w3.eth.get_transaction_count(ACCOUNT_ADDRESS),\n",
    "        'gasPrice': int(w3.eth.gas_price * 1.1),\n",
    "    })\n",
    "    signed_txn = w3.eth.account.sign_transaction(txn, private_key=ACCOUNT_KEY)\n",
    "    return w3.eth.send_raw_transaction(signed_txn.rawTransaction)"
   ]
  },
  {
   "cell_type": "markdown",
   "id": "9c590079-4527-425b-8e38-0da559b9b1d2",
   "metadata": {},
   "source": [
    "## Send predictions"
   ]
  },
  {
   "cell_type": "code",
   "execution_count": null,
   "id": "716b5368-bb51-4687-a60a-0260544b07e3",
   "metadata": {},
   "outputs": [],
   "source": [
    "predict_receipt = handler.make_prediction(\n",
    "    # transaction callback\n",
    "    transact,\n",
    "    # prediction target time example: 24 hours from now\n",
    "    int(time.time()) + 86400,\n",
    "    # un-encrypted prediction value; credict-py handles the encryption\n",
    "    2000,\n",
    "    # other arguments\n",
    "    author=\"John Doe\",\n",
    "    comment=\"This prediction was based on <analysis> and <assumption>\",\n",
    ")\n",
    "predict_receipt"
   ]
  },
  {
   "cell_type": "code",
   "execution_count": null,
   "id": "3e36afae-08ea-4177-8229-b81d7d72eac9",
   "metadata": {},
   "outputs": [],
   "source": [
    "pd.DataFrame(handler.view_prediction())"
   ]
  },
  {
   "cell_type": "markdown",
   "id": "67d3ac44-efd9-4970-a0cb-ce235a9c9b78",
   "metadata": {},
   "source": [
    "## Decrypt predictions"
   ]
  },
  {
   "cell_type": "code",
   "execution_count": null,
   "id": "41be5d2c-b03e-4173-a7a9-8166f68e99fd",
   "metadata": {},
   "outputs": [],
   "source": [
    "handler.records_to_decrypt"
   ]
  },
  {
   "cell_type": "code",
   "execution_count": null,
   "id": "02ec06c9-db76-40eb-a4c9-b20493a8d3bf",
   "metadata": {},
   "outputs": [],
   "source": [
    "decrypt_receipt = handler.decrypt_prediction(transact)\n",
    "decrypt_receipt"
   ]
  },
  {
   "cell_type": "markdown",
   "id": "2ca330e7-2f7d-4cea-ad3a-8ecc8703db88",
   "metadata": {},
   "source": [
    "## Check forecaster stats"
   ]
  },
  {
   "cell_type": "code",
   "execution_count": null,
   "id": "5d03d034-73de-4257-8be7-9930cdf59f79",
   "metadata": {},
   "outputs": [],
   "source": [
    "handler.contract.functions.analyzePredictionRecord(ACCOUNT_ADDRESS).call()"
   ]
  },
  {
   "cell_type": "code",
   "execution_count": null,
   "id": "4f4fb9ea-fb00-4a95-8b14-8d79341fe6ca",
   "metadata": {},
   "outputs": [],
   "source": []
  }
 ],
 "metadata": {
  "kernelspec": {
   "display_name": "Python 3 (ipykernel)",
   "language": "python",
   "name": "python3"
  },
  "language_info": {
   "codemirror_mode": {
    "name": "ipython",
    "version": 3
   },
   "file_extension": ".py",
   "mimetype": "text/x-python",
   "name": "python",
   "nbconvert_exporter": "python",
   "pygments_lexer": "ipython3",
   "version": "3.9.10"
  }
 },
 "nbformat": 4,
 "nbformat_minor": 5
}
